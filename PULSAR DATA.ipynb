{
 "cells": [
  {
   "cell_type": "code",
   "execution_count": 1,
   "metadata": {},
   "outputs": [],
   "source": [
    "# Downloads and saves ATNF page\n",
    "import urllib.request\n",
    "import time\n",
    "import re\n",
    "import pickle\n",
    "\n",
    "url = \"https://www.atnf.csiro.au/research/pulsar/psrcat/proc_form.php?version=1.62&Name=Name&RaJ=RaJ&DecJ=DecJ&DM=DM&S400=S400&S1400=S1400&S2000=S2000&Assoc=Assoc&R_lum=R_lum&R_lum14=R_lum14&startUserDefined=true&c1_val=&c2_val=&c3_val=&c4_val=&sort_attr=jname&sort_order=asc&condition=&pulsar_names=&ephemeris=short&coords_unit=raj%2Fdecj&radius=&coords_1=&coords_2=&style=Long+csv+with+errors&no_value=*&fsize=3&x_axis=&x_scale=linear&y_axis=&y_scale=linear&state=query&table_bottom.x=48&table_bottom.y=22\"\n",
    "# main1-url = 'https://www.atnf.csiro.au/research/pulsar/psrcat/proc_form.php?version=1.62&JName=JName&RaJ=RaJ&DecJ=DecJ&DM=DM&S400=S400&S1400=S1400&S2000=S2000&Assoc=Assoc&R_lum=R_lum&R_lum14=R_lum14&startUserDefined=true&c1_val=&c2_val=&c3_val=&c4_val=&sort_attr=jname&sort_order=asc&condition=&pulsar_names=&ephemeris=short&coords_unit=raj%2Fdecj&radius=&coords_1=&coords_2=&style=Long+with+last+digit+error&no_value=*&fsize=3&x_axis=&x_scale=linear&y_axis=&y_scale=linear&state=query&table_bottom.x=77&table_bottom.y=17'\n",
    "#url = 'https://www.atnf.csiro.au/research/pulsar/psrcat/proc_form.php?version=1.62&table_top.x=74&table_top.y=18&RaJ=RaJ&DecJ=DecJ&DM=DM&S400=S400&S1400=S1400&S2000=S2000&Assoc=Assoc&R_lum=R_lum&R_lum14=R_lum14&startUserDefined=true&c1_val=&c2_val=&c3_val=&c4_val=&sort_attr=jname&sort_order=asc&condition=&pulsar_names=&ephemeris=short&coords_unit=raj%2Fdecj&radius=&coords_1=&coords_2=&style=Long+with+last+digit+error&no_value=*&fsize=3&x_axis=&x_scale=linear&y_axis=&y_scale=linear&state=query'\n",
    "#url = \"https://www.atnf.csiro.au/research/pulsar/psrcat/proc_form.php?version=1.62&RaJ=RaJ&DecJ=DecJ&DM=DM&S400=S400&S1400=S1400&S2000=S2000&Assoc=Assoc&R_lum=R_lum&R_lum14=R_lum14&startUserDefined=true&c1_val=&c2_val=&c3_val=&c4_val=&sort_attr=jname&sort_order=asc&condition=&pulsar_names=&ephemeris=short&coords_unit=raj%2Fdecj&radius=&coords_1=&coords_2=&style=Long+with+errors&no_value=*&fsize=3&x_axis=&x_scale=linear&y_axis=&y_scale=linear&state=query&table_bottom.x=31&table_bottom.y=23\"\n",
    "\n",
    "with urllib.request.urlopen(url) as response:\n",
    "   text = response.read().decode(\"utf-8\")\n",
    "\n",
    "\n",
    "with open('pulsars.page', 'wb') as pulsarDoc:\n",
    "    pickle.dump(text, pulsarDoc)\n"
   ]
  },
  {
   "cell_type": "code",
   "execution_count": 76,
   "metadata": {},
   "outputs": [
    {
     "name": "stdout",
     "output_type": "stream",
     "text": [
      "62.26927777777777\n",
      "<class 'numpy.float64'>\n",
      " N     Name    Name_REF     RAJ     RAJ_ERR RAJ_REF     DECJ    DECJ_ERR DECJ_REF   DM  DM_ERR DM_REF S400 S400_ERR S400_REF S1400 S1400_ERR S1400_REF S2000 S2000_ERR S2000_REF                              ASSOC                               L400 L1400 extra\n",
      "--- ---------- -------- ----------- ------- ------- ----------- -------- -------- ----- ------ ------ ---- -------- -------- ----- --------- --------- ----- --------- --------- ---------------------------------------------------------------- ---- ----- -----\n",
      "  1 J0002+6216   cwp+17 00:02:58.17    0.02  cwp+17 +62:16:09.4      0.1   cwp+17 218.6    0.6 wcp+18   --      0.0       -- 0.022       0.0      wu18    --       0.0        -- GRS:3FGL_J0002.6+6218[aaa+15],XRS:1XSPS_J000257.6+621609[wcp+18]   --  0.89      \n"
     ]
    }
   ],
   "source": [
    "from astropy.io import ascii\n",
    "from astropy.table import Table\n",
    "import pickle\n",
    "from astropy.coordinates import SkyCoord\n",
    "import astropy.units as u\n",
    "import numpy as np\n",
    " \n",
    "startpos = 31 # which line the content starts on\n",
    "endpos = -5\n",
    " \n",
    "with open('pulsars.page', 'rb') as pulsarDoc:\n",
    "    pulsar_doc = pickle.load(pulsarDoc)\n",
    "     \n",
    "pulsars = pulsar_doc.split(\"\\n\")\n",
    " \n",
    "columns=['N',\n",
    "          'Name',\n",
    "          'Name_REF',\n",
    "          'RAJ',\n",
    "          'RAJ_ERR',\n",
    "          'RAJ_REF',\n",
    "          'DECJ',\n",
    "          'DECJ_ERR',\n",
    "          'DECJ_REF',\n",
    "          'DM',\n",
    "          'DM_ERR',\n",
    "          'DM_REF',\n",
    "          'S400',\n",
    "          'S400_ERR',\n",
    "          'S400_REF',\n",
    "          'S1400',\n",
    "          'S1400_ERR',\n",
    "          'S1400_REF',\n",
    "          'S2000',\n",
    "          'S2000_ERR',\n",
    "          'S2000_REF',\n",
    "          'ASSOC',\n",
    "          'L400',\n",
    "          'L1400',\n",
    "          'extra']\n",
    " \n",
    "pulsars = pulsars[startpos:len(pulsars)+endpos-1] #This trims it down to only the pulsars\n",
    " \n",
    "num_cols=np.array([len(x.split(';')) for x in pulsars])\n",
    "bad_rows=np.where(num_cols != num_cols[0])[0]\n",
    "sum=0\n",
    "for row in bad_rows:\n",
    "    pulsars.pop(row-sum)\n",
    "    sum+=1\n",
    " \n",
    "data=ascii.read('\\n'.join(pulsars),format='no_header',\n",
    "                 delimiter=';',names=columns,\n",
    "                 fill_values=[('*','-99')])\n",
    "\n",
    "\n",
    "coords=SkyCoord(data['RAJ'],data['DECJ'],unit=('hour','deg'))\n",
    "print(coords[0].dec.degree)\n",
    "print(type(coords[0].dec.degree))\n",
    "print(data[0])\n",
    "\n",
    "with open('pulsars.table', 'wb') as pulsarDoc:\n",
    "    pickle.dump(data, pulsarDoc)\n",
    "with open('pulsars.skycoords', 'wb') as skycoords:\n",
    "    pickle.dump(coords,skycoords)"
   ]
  },
  {
   "cell_type": "code",
   "execution_count": 23,
   "metadata": {
    "scrolled": true
   },
   "outputs": [
    {
     "name": "stdout",
     "output_type": "stream",
     "text": [
      "<SkyCoord (ICRS): (ra, dec) in deg\n",
      "    (0.742375, 62.26927778)>\n"
     ]
    }
   ],
   "source": [
    "#alternative, using psrqpy. \n",
    "#The different sources do not have the columns or amount of data, but both share the ones currently used\n",
    "#program uses whichever of the cell above or this one was ran last. \n",
    "# psrqpy has less pulsars, so \n",
    "import psrqpy as ps\n",
    "from astropy.table import Column\n",
    "import numpy\n",
    "\n",
    "\n",
    "data = ps.QueryATNF().catalogue_table\n",
    "data.add_column(Column(np.arange(len(data)),name=\"N\"), index=0)\n",
    "coords=SkyCoord(data['RAJ'],data['DECJ'],unit=('hour','deg'))\n",
    "\n",
    "print(coords[0])\n",
    "with open('pulsars.table', 'wb') as pulsarDoc:\n",
    "    pickle.dump(data, pulsarDoc)\n",
    "\n",
    "with open('pulsars.skycoords', 'wb') as skycoords:\n",
    "    pickle.dump(coords,skycoords)"
   ]
  },
  {
   "cell_type": "code",
   "execution_count": 3,
   "metadata": {},
   "outputs": [
    {
     "name": "stdout",
     "output_type": "stream",
     "text": [
      "['0:0:0.0', '23:59:0.0', '-90:0:0.0', '90:0:0.0']\n",
      "1702\n",
      "2800\n",
      "1098\n"
     ]
    }
   ],
   "source": [
    "#Test cell for tableGet\n",
    "import tableGet as tg\n",
    "#V[num] is the version number of the matarial source. Creates new table with no delations of old ones\n",
    "#hasDM - it has a measured DM\n",
    "#posErrorASec[num] has an error in position less than a specific number of arcseconds\n",
    "#posRange[num1,num2,num3,num4] Declination and RA ranges (low-high)\n",
    "\n",
    "table1 = tg.tableGet([\"V[test1]\",\"hasDM\", \"posErrorASec[01]\", \"posRange[0:0:0.0,23:59:0.0,-90:0:0.0,90:0:0.0]\"])\n",
    "table2 = tg.tableGet([\"V[test1]\", \"posRange[0:0:0.0,23:59:0.0,-90:0:0.0,90:0:0.0]\"])\n",
    "\n",
    "print(len(table1))\n",
    "print(len(table2))\n",
    "print(len(table2)-len(table1))\n",
    "#print(table[-1])\n",
    "\n",
    "# ~1000 pulsars are cut when pos error is 1 arcsec. This leaves ~1700 good ones.\n",
    "# An additional 100 pulsars are ommited because they do not have a DM on file"
   ]
  },
  {
   "cell_type": "code",
   "execution_count": 5,
   "metadata": {},
   "outputs": [
    {
     "name": "stdout",
     "output_type": "stream",
     "text": [
      "132734\n"
     ]
    }
   ],
   "source": [
    "# goes through and finds all objects in the a subset of the tables from the mosiacs, putting them into a single list\n",
    "# There are \"component\", \"island\", and a normal category of table.\n",
    "# The normal one seems to outline all objects so I focus on that one\n",
    "import os\n",
    "from astropy.io import fits\n",
    "from astropy.coordinates import SkyCoord\n",
    "import astropy.units as u\n",
    "import re\n",
    "import time\n",
    "\n",
    "path = 'tables/racs_catv'\n",
    "file_names = os.listdir(path)\n",
    "file_infos = []\n",
    "\n",
    "for i in file_names: \n",
    "    if 'selavy.txt' in i:\n",
    "        file = open(path + \"/\" + i, \"r\")\n",
    "        file_info = file.read().split(\"\\n\")\n",
    "        mos_filename = file_info[4][67:]\n",
    "        items = file_info[47:]\n",
    "        \"\"\"\n",
    "        content of each item:\n",
    "        ObjID Name X Y Z RA DEC RA DEC VEL MAJ MIN PA w_RA w_DEC w_50 w_20 w_VEL F_int F_tot F_peak \n",
    "        # X1 X2 Y1 Y2 Z1 Z2 Nvoxel Nchan Nspatpix Flag X_av Y_av Z_av X_cent Y_cent Z_cent X_peak Y_peak Z_peak\n",
    "        # [deg] [deg] [arcsec] [arcsec] [deg] [arcmin] [arcmin] [Jy]  [Jy/beam] [Jy/beam] \n",
    "        \"\"\"\n",
    "        for ii in range(len(items)):\n",
    "            items[ii] = re.split(r' {1,}', items[ii].strip())\n",
    "            \n",
    "            if len(items[ii]) != 1:\n",
    "                coord = SkyCoord(items[ii][5], items[ii][6], unit=(u.hourangle, u.deg))\n",
    "                items[ii].append(coord)\n",
    "                items[ii].append(mos_filename)\n",
    "                file_infos.append(items[ii])\n",
    "\n",
    "\n",
    "\n",
    "#print(len(real_file_info))\n",
    "print(len(file_infos))\n",
    "with open('table_info', 'wb') as table_infos:\n",
    "    pickle.dump(file_infos, table_infos)"
   ]
  },
  {
   "cell_type": "code",
   "execution_count": 25,
   "metadata": {},
   "outputs": [
    {
     "name": "stdout",
     "output_type": "stream",
     "text": [
      "1702\n",
      "1702\n"
     ]
    }
   ],
   "source": [
    "# Turns objects from mosiacs into list of sky coord from astropy and checks them against pulsars\n",
    "from astropy.coordinates import match_coordinates_sky\n",
    "import tableGet as tg\n",
    "import pickle\n",
    "from astropy.coordinates import SkyCoord\n",
    "import astropy.units as u\n",
    "\n",
    "with open('table_info', 'rb') as objectDoc:\n",
    "    skyObjects = pickle.load(objectDoc)\n",
    "    \n",
    "with open('pulsars.skycoords', 'rb') as objectDoc:\n",
    "    pulsarCoords = pickle.load(objectDoc)\n",
    "    \n",
    "        \n",
    "#print(len(coordList))\n",
    "\n",
    "\n",
    "\n",
    "catalog = SkyCoord(ra = (i[5] for i in skyObjects), dec = (i[6] for i in skyObjects), unit=(u.hourangle, u.deg))\n",
    "pulsars = tg.tableGet([\"V[test33]\",\"hasDM\", \"posErrorASec[01]\", \"posRange[0:0:0.0,23:59:59.0,-90:0:0.0,90:0:0.0]\"])\n",
    "matches = []\n",
    "for i in range(len(pulsars)):\n",
    "    match = pulsarCoords[pulsars[\"N\"][i]-1].match_to_catalog_sky(catalog)\n",
    "    matches.append([match, pulsars[i], skyObjects[match[0]]])\n",
    "\n",
    "print(len(matches))\n",
    "print(len(pulsars))"
   ]
  },
  {
   "cell_type": "code",
   "execution_count": 28,
   "metadata": {
    "scrolled": true
   },
   "outputs": [
    {
     "name": "stdout",
     "output_type": "stream",
     "text": [
      "36\n",
      "['43', 'B0536-7543', '3681.6', '13791.1', '0.0', '05:36:31.0', '-75:43:53', '84.129167', '-75.731534', '0.000', '15.53', '6.84', '76.90', '0.271', '0.0690', '0.000', '0.000', '0.000', '0.00039', '0.0124', '0.00104', '3679', '3684', '13790', '13792', '0', '0', '15', '1', '15', '-', '3681.6', '13791.1', '0.0', '3681.613791.1', '0.0', '3682', '13791', '0', <SkyCoord (ICRS): (ra, dec) in deg\n",
      "    (84.12916667, -75.73138889)>, 'nRACS_test4_1.05_0445-80A-selavy.txt']\n"
     ]
    }
   ],
   "source": [
    "# Crops the matches\n",
    "import astropy.units as u\n",
    "#print(matches[0][2])\n",
    "close_matches = []\n",
    "for i in matches:\n",
    "    if (i[0][1] < 5 * u.arcsec)[0]:\n",
    "        close_matches.append(i)\n",
    "print(len(close_matches))\n",
    "print(close_matches[0][2])"
   ]
  },
  {
   "cell_type": "code",
   "execution_count": 12,
   "metadata": {},
   "outputs": [
    {
     "name": "stdout",
     "output_type": "stream",
     "text": [
      "# Region file format: DS9 version 4.1\n",
      "global color=green dashlist=8 3 width=1 font=\"helvetica 10 normal roman\" select=1 highlite=1 dash=0 fixed=0 edit=1 move=1 delete=1 include=1 source=1\n",
      "fk5\n",
      "circle(07:19:07.380,-25:45:00.23,6\")\n",
      "circle(08:20:59.932,-38:26:42.88,6\")\n",
      "circle(08:38:18.801,-26:21:29.55,6\")\n",
      "circle(12:44:11.48,-50:53:20.6,6\")\n",
      "circle(13:17:46.29,-57:59:30.5,6\")\n",
      "circle(13:26:32.44,-64:08:43.8,6\")\n",
      "circle(13:39:56.5886,-47:12:05.52,6\")\n",
      "circle(17:52:35.42,23:59:48.2,6\")\n",
      "circle(18:01:00.016,-24:51:27.5,6\")\n",
      "circle(19:32:46.307,+15:00:22.2,6\")\n",
      "circle(20:18:53.196,+34:31:00.51,6\")\n"
     ]
    }
   ],
   "source": [
    "# Creates region file\n",
    "import pickle\n",
    "\n",
    "region_info = \"\"\"# Region file format: DS9 version 4.1\n",
    "global color=green dashlist=8 3 width=1 font=\"helvetica 10 normal roman\" select=1 highlite=1 dash=0 fixed=0 edit=1 move=1 delete=1 include=1 source=1\n",
    "fk5\"\"\"\n",
    "\n",
    "for i in close_matches:\n",
    "    region_info += \"\\n\" + \"circle(\" + str(i[1][3]) + \",\" + str(i[1][6]) + \",\" + str(6) +'\")'\n",
    "print(region_info)\n",
    "file = open(\"regions\",\"w\") \n",
    "file.write(region_info)\n",
    "file.close() \n"
   ]
  },
  {
   "cell_type": "code",
   "execution_count": 29,
   "metadata": {},
   "outputs": [
    {
     "data": {
      "image/png": "[encoded data removed]",
      "text/plain": [
       "<Figure size 432x288 with 1 Axes>"
      ]
     },
     "metadata": {
      "needs_background": "light"
     },
     "output_type": "display_data"
    }
   ],
   "source": [
    "#Histogram of how close matches are overall\n",
    "import astropy.units as u\n",
    "\n",
    "import numpy as np\n",
    "import matplotlib.pyplot as plt\n",
    "\n",
    "distances = []\n",
    "for i in close_matches:\n",
    "    distances.append(i[0][1][0].decompose() * (206265/u.rad))\n",
    "    \n",
    "distances.sort()\n",
    "\n",
    "plt.hist(distances, 50, facecolor='g')\n",
    "plt.xlabel('Distance (arcsec)')\n",
    "plt.ylabel('Amount')\n",
    "plt.title('Histogram of distance to closest object to pulsars from ATNF within the')\n",
    "plt.xlim(distances[0], distances[-1])\n",
    "plt.ylim(0, len(distances)/5)\n",
    "plt.grid(True)\n",
    "plt.show()"
   ]
  },
  {
   "cell_type": "code",
   "execution_count": null,
   "metadata": {},
   "outputs": [],
   "source": []
  }
 ],
 "metadata": {
  "kernelspec": {
   "display_name": "Python 3",
   "language": "python",
   "name": "python3"
  },
  "language_info": {
   "codemirror_mode": {
    "name": "ipython",
    "version": 3
   },
   "file_extension": ".py",
   "mimetype": "text/x-python",
   "name": "python",
   "nbconvert_exporter": "python",
   "pygments_lexer": "ipython3",
   "version": "3.6.9"
  }
 },
 "nbformat": 4,
 "nbformat_minor": 2
}
