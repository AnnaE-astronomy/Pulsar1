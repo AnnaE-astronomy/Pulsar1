{
 "cells": [
  {
   "cell_type": "code",
   "execution_count": 88,
   "metadata": {},
   "outputs": [],
   "source": [
    "# Downloads and saves ATNF page\n",
    "import urllib.request\n",
    "import time\n",
    "import re\n",
    "import pickle\n",
    "\n",
    "url = 'https://www.atnf.csiro.au/research/pulsar/psrcat/proc_form.php?version=1.62&JName=JName&RaJ=RaJ&DecJ=DecJ&DM=DM&S400=S400&S1400=S1400&S2000=S2000&Assoc=Assoc&R_lum=R_lum&R_lum14=R_lum14&startUserDefined=true&c1_val=&c2_val=&c3_val=&c4_val=&sort_attr=jname&sort_order=asc&condition=&pulsar_names=&ephemeris=short&coords_unit=raj%2Fdecj&radius=&coords_1=&coords_2=&style=Long+with+last+digit+error&no_value=*&fsize=3&x_axis=&x_scale=linear&y_axis=&y_scale=linear&state=query&table_bottom.x=77&table_bottom.y=17'\n",
    "#url = 'https://www.atnf.csiro.au/research/pulsar/psrcat/proc_form.php?version=1.62&table_top.x=74&table_top.y=18&RaJ=RaJ&DecJ=DecJ&DM=DM&S400=S400&S1400=S1400&S2000=S2000&Assoc=Assoc&R_lum=R_lum&R_lum14=R_lum14&startUserDefined=true&c1_val=&c2_val=&c3_val=&c4_val=&sort_attr=jname&sort_order=asc&condition=&pulsar_names=&ephemeris=short&coords_unit=raj%2Fdecj&radius=&coords_1=&coords_2=&style=Long+with+last+digit+error&no_value=*&fsize=3&x_axis=&x_scale=linear&y_axis=&y_scale=linear&state=query'\n",
    "#url = \"https://www.atnf.csiro.au/research/pulsar/psrcat/proc_form.php?version=1.62&RaJ=RaJ&DecJ=DecJ&DM=DM&S400=S400&S1400=S1400&S2000=S2000&Assoc=Assoc&R_lum=R_lum&R_lum14=R_lum14&startUserDefined=true&c1_val=&c2_val=&c3_val=&c4_val=&sort_attr=jname&sort_order=asc&condition=&pulsar_names=&ephemeris=short&coords_unit=raj%2Fdecj&radius=&coords_1=&coords_2=&style=Long+with+errors&no_value=*&fsize=3&x_axis=&x_scale=linear&y_axis=&y_scale=linear&state=query&table_bottom.x=31&table_bottom.y=23\"\n",
    "\n",
    "with urllib.request.urlopen(url) as response:\n",
    "   text = response.read().decode(\"utf-8\")\n",
    "\n",
    "\n",
    "with open('pulsars.page', 'wb') as pulsarDoc:\n",
    "    pickle.dump(text, pulsarDoc)\n"
   ]
  },
  {
   "cell_type": "code",
   "execution_count": 5,
   "metadata": {},
   "outputs": [
    {
     "name": "stdout",
     "output_type": "stream",
     "text": [
      "<SkyCoord (ICRS): (ra, dec) in deg\n",
      "    (0.742375, 62.26927778)>\n"
     ]
    }
   ],
   "source": [
    "#seperates page into individual pulsars and puts into list\n",
    "import pickle\n",
    "import re\n",
    "from astropy.coordinates import SkyCoord\n",
    "import astropy.units as u\n",
    "\n",
    "startpos = 33 # which line the content starts on\n",
    "endpos = -8\n",
    "\n",
    "with open('pulsars.page', 'rb') as pulsarDoc:\n",
    "    pulsar_doc = pickle.load(pulsarDoc)\n",
    "    \n",
    "pulsars = pulsar_doc.split(\"\\n\")\n",
    "\n",
    "pulsars = pulsars[startpos:len(pulsars)] #This trims it down to only the pulsars\n",
    "new_pulsars = []\n",
    "\n",
    "pulsars = pulsars[:(len(pulsars)+endpos-1)]\n",
    "pulsars[:] = (value for value in pulsars if value != \"\")\n",
    "\n",
    "\n",
    "\n",
    "for i in range(len(pulsars)): # turns pulsar string into usable list\n",
    "    pulsars[i] = pulsars[i].strip()\n",
    "    pulsars[i] = re.split(r' {2,}', pulsars[i])\n",
    "    if i == 2270:\n",
    "        #print(pulsars[i])\n",
    "\n",
    "        pulsar_fix = pulsars[i][:len(pulsars[i])-2]\n",
    "        pulsar_fix.append(pulsars[i][-2][:len(pulsars[i][-2])-2])\n",
    "        pulsar_fix.append(pulsars[i][-2].split(\" \")[-1])\n",
    "        pulsar_fix.append(pulsars[i][-1])\n",
    "        pulsars[i] = pulsar_fix\n",
    "        #print(pulsar_fix)\n",
    "for i in pulsars:\n",
    "    c = SkyCoord(i[3], i[6], unit=(u.hourangle, u.deg))\n",
    "    i.append(c)\n",
    "with open('pulsars.list', 'wb') as pulsarDoc:\n",
    "    pickle.dump(pulsars, pulsarDoc)\n"
   ]
  },
  {
   "cell_type": "code",
   "execution_count": 7,
   "metadata": {},
   "outputs": [
    {
     "name": "stdout",
     "output_type": "stream",
     "text": [
      "J0002+6216\n",
      "    pRA     pRAError     pDEC    pDECError   DM  DMError S400 S400Error S1400 S1400Error S2000 S2000Error lum lum14                                                                                                                   assoc                                                                                                                       name             skycoord         \n",
      "                                                                                                                                                                                                                                                                                                                                                                                   deg,deg          \n",
      "----------- -------- ----------- --------- ----- ------- ---- --------- ----- ---------- ----- ---------- --- ----- ------------------------------------------------------------------------------------------------------------------------------------------------------------------------------------------------------------------------------------------ ---------- --------------------------\n",
      "00:02:58.17        2 +62:16:09.4         1 218.6       6    *         0 0.022          0     *          0   *  0.89 GRS:3FGL_J0002.6+6218[<a href=\"http://www.atnf.csiro.au/research/pulsar/psrcat/psrcat_ref.html#aaa+15\">aaa+15]</a>,XRS:1XSPS_J000257.6+621609[<a href=\"http://www.atnf.csiro.au/research/pulsar/psrcat/psrcat_ref.html#wcp+18\">wcp+18]</a> J0002+6216 0.742375,62.26927777777777\n"
     ]
    }
   ],
   "source": [
    "# takes pulsar list and turns it into astropy table\n",
    "from astropy.table import QTable\n",
    "import astropy.units as u\n",
    "import numpy as np\n",
    "import pickle\n",
    "with open('pulsars.list', 'rb') as pulsarDoc:\n",
    "    pulsars = pickle.load(pulsarDoc)\n",
    "\n",
    "name = list((value[1] for value in pulsars))\n",
    "print(name[0])\n",
    "pRA = list((value[3] for value in pulsars))\n",
    "pRAError = list((value[4] for value in pulsars))\n",
    "\n",
    "\n",
    "\n",
    "pDEC = list((value[6] for value in pulsars))\n",
    "pDECError = list((value[7] for value in pulsars))\n",
    "\n",
    "\n",
    "DM = list((value[9] for value in pulsars))\n",
    "DMError = list((value[10] for value in pulsars))\n",
    "\n",
    "\n",
    "S400 = list((value[12] for value in pulsars))\n",
    "S400Error = list((value[13] for value in pulsars))\n",
    "\n",
    "S1400 = list((value[15] for value in pulsars))\n",
    "S1400Error = list((value[16] for value in pulsars))\n",
    "\n",
    "S2000 = list((value[18] for value in pulsars))\n",
    "S2000Error = list((value[19] for value in pulsars))\n",
    "\n",
    "assoc = list((value[21] for value in pulsars))\n",
    "\n",
    "lum = list((value[22] for value in pulsars))\n",
    "\n",
    "lum14=list((value[23] for value in pulsars))\n",
    "\n",
    "skycoord=list((value[-1] for value in pulsars))\n",
    "\n",
    "\n",
    "pulsar_table = QTable([pRA,pRAError, pDEC, pDECError, DM, DMError,S400, S400Error, S1400, S1400Error, S2000, S2000Error\n",
    "                      , lum, lum14,assoc, name,skycoord],\n",
    "                 names=('pRA','pRAError','pDEC','pDECError', \"DM\", \"DMError\", 'S400', \"S400Error\", \"S1400\", \"S1400Error\"\n",
    "                       ,\"S2000\", \"S2000Error\", \"lum\", 'lum14', 'assoc', 'name','skycoord'),\n",
    "                 meta={'name' : 'Pulsar Locations'})\n",
    "print(pulsar_table[0])\n",
    "with open('pulsars.table', 'wb') as pulsarDoc:\n",
    "    pickle.dump(pulsar_table, pulsarDoc)"
   ]
  },
  {
   "cell_type": "code",
   "execution_count": 8,
   "metadata": {},
   "outputs": [
    {
     "name": "stdout",
     "output_type": "stream",
     "text": [
      "335\n",
      "     pRA      pRAError      pDEC     pDECError   DM  DMError S400 S400Error S1400 S1400Error S2000 S2000Error lum lum14                                                   assoc                                                        name                  skycoord              \n",
      "                                                                                                                                                                                                                                                             deg,deg               \n",
      "------------- -------- ------------- --------- ----- ------- ---- --------- ----- ---------- ----- ---------- --- ----- ---------------------------------------------------------------------------------------------------------- ----------- ------------------------------------\n",
      "00:23:54.4899        3 -72:05:30.756         2 24.43       2    *         0     *          0     *          0   *     * GC:47Tuc,XRS:[<a href=\"http://www.atnf.csiro.au/research/pulsar/psrcat/psrcat_ref.html#bgh+06\">bgh+06]</a> J0024-7204M 5.977041249999999,-72.09187666666666\n"
     ]
    }
   ],
   "source": [
    "# Test cell only, not relavent \n",
    "import tableGet as tg\n",
    "#V[num] is the version number of the matarial source. Creates new table with no delations of old ones\n",
    "#hasDM - it has a measured DM\n",
    "#posErrorASec[num] has an error in position less than a specific number of arcseconds\n",
    "#posRange[num1,num2,num3,num4] Declination and RA ranges (low-high), \n",
    "\n",
    "\n",
    "\n",
    "table = tg.tableGet([\"V[test1]\",\"hasDM\", \"posErrorASec[01]\", \"posRange[0:0:0.0,10:0:0.0,-90:0:0.0,90:0:0.0]\"])\n",
    "\n",
    "print(len(table))\n",
    "\n",
    "print(table[15])\n",
    "\n",
    "# range part and shit seems to be broken, fix tomorrow morning?"
   ]
  },
  {
   "cell_type": "code",
   "execution_count": 9,
   "metadata": {},
   "outputs": [
    {
     "name": "stdout",
     "output_type": "stream",
     "text": [
      "0\n",
      "1797\n"
     ]
    }
   ],
   "source": [
    "# goes through and finds all objects in the tables from the mosiacs, putting them into a single list\n",
    "\n",
    "import os\n",
    "from astropy.io import fits\n",
    "from astropy.coordinates import SkyCoord\n",
    "import astropy.units as u\n",
    "\n",
    "import re\n",
    "import time\n",
    "path = 'tables/racs_catv'\n",
    "file_names = os.listdir(path)\n",
    "file_infos = []\n",
    "\n",
    "#print(file_names)\n",
    "\n",
    "for i in file_names: \n",
    "    if 'selavy.txt' in i:\n",
    "        file = open(path + \"/\" + i, \"r\")\n",
    "        file_info = file.read().split(\"\\n\")\n",
    "        mos_filename = file_info[4][67:]\n",
    "        items = file_info[47:]\n",
    "        # ObjID Name X Y Z RA DEC RA DEC VEL MAJ MIN PA w_RA w_DEC w_50 w_20 w_VEL F_int F_tot F_peak \n",
    "        # X1 X2 Y1 Y2 Z1 Z2 Nvoxel Nchan Nspatpix Flag X_av Y_av Z_av X_cent Y_cent Z_cent X_peak Y_peak Z_peak\n",
    "        # [deg] [deg] [arcsec] [arcsec] [deg] [arcmin] [arcmin] [Jy]  [Jy/beam] [Jy/beam] \n",
    "        for ii in range(len(items)):\n",
    "            items[ii] = re.split(r' {1,}', items[ii].strip())\n",
    "            #print(items[ii])\n",
    "            if len(items[ii]) != 1:\n",
    "                c = SkyCoord(items[ii][5], items[ii][6], unit=(u.hourangle, u.deg))\n",
    "    \n",
    "                items[ii].append(c)\n",
    "                #print(items[ii][5], items[ii][6])\n",
    "                #print(c)\n",
    "        #print(c)\n",
    "        #print(items)\n",
    "        #print(mos_filename + \"   ,\" +  i)\n",
    "        file_infos.append([mos_filename, items])\n",
    "\n",
    "amount = 0        \n",
    "for i in file_infos:\n",
    "    #print(len(i[1]))\n",
    "    if len(i[1]) ==0:\n",
    "        amount += 1\n",
    "print(amount)\n",
    "print(len(file_infos))\n",
    "with open('table_info', 'wb') as table_infos:\n",
    "    pickle.dump(file_infos, table_infos)"
   ]
  },
  {
   "cell_type": "code",
   "execution_count": 2,
   "metadata": {},
   "outputs": [
    {
     "name": "stdout",
     "output_type": "stream",
     "text": [
      "132734\n",
      "2418\n"
     ]
    }
   ],
   "source": [
    "# Turns objects from mosiacs into list of sky coord from astropy and checks them against pulsars\n",
    "from astropy.coordinates import match_coordinates_sky\n",
    "import tableGet as tg\n",
    "import pickle\n",
    "from astropy.coordinates import SkyCoord\n",
    "import astropy.units as u\n",
    "\n",
    "with open('table_info', 'rb') as objectDoc:\n",
    "    skyObjects = pickle.load(objectDoc)\n",
    "coordList = []\n",
    "for i in skyObjects:\n",
    "    for j in i[1]:\n",
    "        try:\n",
    "            coordList.append([j[5],j[6],i[0]])\n",
    "        except:\n",
    "            pass\n",
    "print(len(coordList))\n",
    "catalog = SkyCoord(ra = (i[0] for i in coordList), dec = (i[1] for i in coordList), unit=(u.hourangle, u.deg))\n",
    "pulsars = tg.tableGet([\"V[test2]\",\"hasDM\", \"posErrorASec[01]\", \"posRange[0:0:0.0,24:0:0.0,-90:0:0.0,90:0:0.0]\"])\n",
    "matches = []\n",
    "for i in pulsars:\n",
    "    match = i[-1].match_to_catalog_sky(catalog)\n",
    "    matches.append([match,i,coordList[match[0]][2]])\n",
    "\n",
    "print(len(matches))\n",
    "\n",
    "#print(pulsars[10])\n"
   ]
  },
  {
   "cell_type": "code",
   "execution_count": 9,
   "metadata": {
    "scrolled": true
   },
   "outputs": [
    {
     "name": "stdout",
     "output_type": "stream",
     "text": [
      "RACS_test4_1.05_0303+18A-selavy.txt\n"
     ]
    }
   ],
   "source": [
    "# Crops the matches\n",
    "import astropy.units as u\n",
    "#print(matches[0][2])\n",
    "close_matches = []\n",
    "for i in matches:\n",
    "    if (i[0][1] < 5 * u.arcsec)[0]:\n",
    "        #print(i[1][0].split(\":\"))\n",
    "        if len(i[1][0].split(\":\")) == 3 and len(i[1][2].split(\":\")) == 3:\n",
    "\n",
    "            close_matches.append(i)\n",
    "\n",
    "#for i in close_matches:\n",
    "    #print(i[-1])\n",
    "print(close_matches[0][-1])"
   ]
  },
  {
   "cell_type": "code",
   "execution_count": 10,
   "metadata": {},
   "outputs": [],
   "source": [
    "# Creates region file\n",
    "import pickle\n",
    "\n",
    "region_info = \"\"\"# Region file format: DS9 version 4.1\n",
    "global color=green dashlist=8 3 width=1 font=\"helvetica 10 normal roman\" select=1 highlite=1 dash=0 fixed=0 edit=1 move=1 delete=1 include=1 source=1\n",
    "fk5\"\"\"\n",
    "\n",
    "for i in close_matches:\n",
    "    region_info += \"\\n\" + \"circle(\" + i[1][0] + \",\" + i[1][2] + \",\" + str(360) +'\")'\n",
    "#print(region_info)\n",
    "file = open(\"regions\",\"w\") \n",
    "file.write(region_info)\n",
    "file.close() \n"
   ]
  },
  {
   "cell_type": "code",
   "execution_count": 4,
   "metadata": {},
   "outputs": [
    {
     "data": {
      "image/png": "[encoded data removed]",
      "text/plain": [
       "<Figure size 432x288 with 1 Axes>"
      ]
     },
     "metadata": {
      "needs_background": "light"
     },
     "output_type": "display_data"
    }
   ],
   "source": [
    "#Histogram of how close matches are overall\n",
    "import astropy.units as u\n",
    "\n",
    "import numpy as np\n",
    "import matplotlib.pyplot as plt\n",
    "\n",
    "distances = []\n",
    "for i in close_matches:\n",
    "    distances.append(i[0][1][0].decompose() * (206265/u.rad))\n",
    "    \n",
    "distances.sort()\n",
    "#print(distances)\n",
    "\n",
    "plt.hist(distances, 50, facecolor='g')\n",
    "plt.xlabel('Distance (arcsec)')\n",
    "plt.ylabel('Amount')\n",
    "plt.title('Histogram of distance to closest object to pulsars from ATNF within the')\n",
    "plt.xlim(distances[0], distances[-1])\n",
    "plt.ylim(0, len(distances)/5)\n",
    "plt.grid(True)\n",
    "#plt.figure(figsize=(200,10))\n",
    "plt.show()"
   ]
  },
  {
   "cell_type": "code",
   "execution_count": null,
   "metadata": {},
   "outputs": [],
   "source": []
  }
 ],
 "metadata": {
  "kernelspec": {
   "display_name": "Python 3",
   "language": "python",
   "name": "python3"
  },
  "language_info": {
   "codemirror_mode": {
    "name": "ipython",
    "version": 3
   },
   "file_extension": ".py",
   "mimetype": "text/x-python",
   "name": "python",
   "nbconvert_exporter": "python",
   "pygments_lexer": "ipython3",
   "version": "3.6.9"
  }
 },
 "nbformat": 4,
 "nbformat_minor": 2
}
