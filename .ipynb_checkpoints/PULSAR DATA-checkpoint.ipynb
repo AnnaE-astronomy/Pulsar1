{
 "cells": [
  {
   "cell_type": "code",
   "execution_count": 4,
   "metadata": {},
   "outputs": [],
   "source": [
    "import urllib.request\n",
    "import time\n",
    "import re\n",
    "import pickle\n",
    "startpos = 33 # which line the content starts on\n",
    "endpos = -8\n",
    "url = 'https://www.atnf.csiro.au/research/pulsar/psrcat/proc_form.php?version=1.62&table_top.x=74&table_top.y=18&RaJ=RaJ&DecJ=DecJ&DM=DM&S400=S400&S1400=S1400&S2000=S2000&Assoc=Assoc&R_lum=R_lum&R_lum14=R_lum14&startUserDefined=true&c1_val=&c2_val=&c3_val=&c4_val=&sort_attr=jname&sort_order=asc&condition=&pulsar_names=&ephemeris=short&coords_unit=raj%2Fdecj&radius=&coords_1=&coords_2=&style=Long+with+last+digit+error&no_value=*&fsize=3&x_axis=&x_scale=linear&y_axis=&y_scale=linear&state=query'\n",
    "#url = \"https://www.atnf.csiro.au/research/pulsar/psrcat/proc_form.php?version=1.62&RaJ=RaJ&DecJ=DecJ&DM=DM&S400=S400&S1400=S1400&S2000=S2000&Assoc=Assoc&R_lum=R_lum&R_lum14=R_lum14&startUserDefined=true&c1_val=&c2_val=&c3_val=&c4_val=&sort_attr=jname&sort_order=asc&condition=&pulsar_names=&ephemeris=short&coords_unit=raj%2Fdecj&radius=&coords_1=&coords_2=&style=Long+with+errors&no_value=*&fsize=3&x_axis=&x_scale=linear&y_axis=&y_scale=linear&state=query&table_bottom.x=31&table_bottom.y=23\"\n",
    "\n",
    "with urllib.request.urlopen(url) as response:\n",
    "   text = response.read().decode(\"utf-8\")\n",
    "\n",
    "\n",
    "with open('pulsars.page', 'wb') as pulsarDoc:\n",
    "    pickle.dump(text, pulsarDoc)\n"
   ]
  },
  {
   "cell_type": "code",
   "execution_count": 5,
   "metadata": {},
   "outputs": [],
   "source": [
    "import pickle\n",
    "import re\n",
    "with open('pulsars.page', 'rb') as pulsarDoc:\n",
    "    pulsar_doc = pickle.load(pulsarDoc)\n",
    "    \n",
    "pulsars = pulsar_doc.split(\"\\n\")\n",
    "\n",
    "pulsars = pulsars[startpos:len(pulsars)] #This trims it down to only the pulsars\n",
    "new_pulsars = []\n",
    "\n",
    "pulsars = pulsars[:(len(pulsars)+endpos-1)]\n",
    "pulsars[:] = (value for value in pulsars if value != \"\")\n",
    "\n",
    "\n",
    "for i in range(len(pulsars)): # turns pulsar string into usable list\n",
    "    pulsars[i] = pulsars[i].strip()\n",
    "    pulsars[i] = re.split(r' {2,}', pulsars[i])\n",
    "    if i == 2270:\n",
    "        #print(pulsars[i])\n",
    "\n",
    "        pulsar_fix = pulsars[i][:len(pulsars[i])-2]\n",
    "        pulsar_fix.append(pulsars[i][-2][:len(pulsars[i][-2])-2])\n",
    "        pulsar_fix.append(pulsars[i][-2].split(\" \")[-1])\n",
    "        pulsar_fix.append(pulsars[i][-1])\n",
    "        pulsars[i] = pulsar_fix\n",
    "        #print(pulsar_fix)\n",
    "    \n",
    "with open('pulsars.list', 'wb') as pulsarDoc:\n",
    "    pickle.dump(pulsars, pulsarDoc)\n"
   ]
  },
  {
   "cell_type": "code",
   "execution_count": 17,
   "metadata": {},
   "outputs": [
    {
     "name": "stdout",
     "output_type": "stream",
     "text": [
      "    pRA     pRAError     pDEC    pDECError   DM  DMError S400 S400Error S1400 S1400Error S2000 S2000Error lum lum14                                                                                                                   assoc                                                                                                                   \n",
      "----------- -------- ----------- --------- ----- ------- ---- --------- ----- ---------- ----- ---------- --- ----- ------------------------------------------------------------------------------------------------------------------------------------------------------------------------------------------------------------------------------------------\n",
      "00:02:58.17        2 +62:16:09.4         1 218.6       6    *         0 0.022          0     *          0   *  0.89 GRS:3FGL_J0002.6+6218[<a href=\"http://www.atnf.csiro.au/research/pulsar/psrcat/psrcat_ref.html#aaa+15\">aaa+15]</a>,XRS:1XSPS_J000257.6+621609[<a href=\"http://www.atnf.csiro.au/research/pulsar/psrcat/psrcat_ref.html#wcp+18\">wcp+18]</a>\n"
     ]
    }
   ],
   "source": [
    "from astropy.table import QTable\n",
    "import astropy.units as u\n",
    "import numpy as np\n",
    "import pickle\n",
    "with open('pulsars.list', 'rb') as pulsarDoc:\n",
    "    pulsars = pickle.load(pulsarDoc)\n",
    "\n",
    "pRA = list((value[1] for value in pulsars))\n",
    "pRAError = list((value[2] for value in pulsars))\n",
    "\n",
    "\n",
    "\n",
    "pDEC = list((value[4] for value in pulsars))\n",
    "pDECError = list((value[5] for value in pulsars))\n",
    "\n",
    "\n",
    "DM = list((value[7] for value in pulsars))\n",
    "DMError = list((value[8] for value in pulsars))\n",
    "\n",
    "\n",
    "S400 = list((value[10] for value in pulsars))\n",
    "S400Error = list((value[11] for value in pulsars))\n",
    "\n",
    "S1400 = list((value[13] for value in pulsars))\n",
    "S1400Error = list((value[14] for value in pulsars))\n",
    "\n",
    "S2000 = list((value[16] for value in pulsars))\n",
    "S2000Error = list((value[17] for value in pulsars))\n",
    "\n",
    "assoc = list((value[19] for value in pulsars))\n",
    "\n",
    "lum = list((value[20] for value in pulsars))\n",
    "\n",
    "lum14=list((value[21] for value in pulsars))\n",
    "\n",
    "pulsar_table = QTable([pRA,pRAError, pDEC, pDECError, DM, DMError,S400, S400Error, S1400, S1400Error, S2000, S2000Error\n",
    "                      , lum, lum14,assoc],\n",
    "                 names=('pRA','pRAError','pDEC','pDECError', \"DM\", \"DMError\", 'S400', \"S400Error\", \"S1400\", \"S1400Error\"\n",
    "                       ,\"S2000\", \"S2000Error\", \"lum\", 'lum14', 'assoc'),\n",
    "                 meta={'name' : 'Pulsar Locations'})\n",
    "print(pulsar_table[0])\n",
    "with open('pulsars.table', 'wb') as pulsarDoc:\n",
    "    pickle.dump(pulsar_table, pulsarDoc)"
   ]
  },
  {
   "cell_type": "code",
   "execution_count": 4,
   "metadata": {},
   "outputs": [
    {
     "name": "stdout",
     "output_type": "stream",
     "text": [
      "175\n",
      " pRA  pRAError  pDEC  pDECError  DM DMError S400 S400Error S1400 S1400Error S2000 S2000Error lum lum14 assoc\n",
      "----- -------- ------ --------- --- ------- ---- --------- ----- ---------- ----- ---------- --- ----- -----\n",
      "00:58        0 +61:25         0 129       0    *         0     *          0     *          0   *     *     *\n"
     ]
    }
   ],
   "source": [
    "import tableGet as tg\n",
    "#V[num] is the version number of the matarial source. Creates new table with no delations of old ones\n",
    "#hasDM - it has a measured DM\n",
    "#posErrorASec[num] has an error in position less than a specific number of arcseconds\n",
    "#posRange[num1,num2,num3,num4] Declination and RA ranges (low-high), \n",
    "\n",
    "table = tg.tableGet([\"V[test5]\",\"hasDM\", \"posErrorASec[01]\", \"posRange[10:0:0.0,18:0:0.0,0:0:0.0,90:0:0.0]\"])\n",
    "print(len(table))\n",
    "\n",
    "print(table[5])\n",
    "\n"
   ]
  },
  {
   "cell_type": "code",
   "execution_count": 5,
   "metadata": {},
   "outputs": [
    {
     "name": "stdout",
     "output_type": "stream",
     "text": [
      "234567890\n"
     ]
    }
   ],
   "source": [
    "test = \"1234567890\"\n",
    "print(test[1:])\n"
   ]
  },
  {
   "cell_type": "code",
   "execution_count": null,
   "metadata": {},
   "outputs": [],
   "source": []
  }
 ],
 "metadata": {
  "kernelspec": {
   "display_name": "Python 3",
   "language": "python",
   "name": "python3"
  },
  "language_info": {
   "codemirror_mode": {
    "name": "ipython",
    "version": 3
   },
   "file_extension": ".py",
   "mimetype": "text/x-python",
   "name": "python",
   "nbconvert_exporter": "python",
   "pygments_lexer": "ipython3",
   "version": "3.6.9"
  }
 },
 "nbformat": 4,
 "nbformat_minor": 2
}
